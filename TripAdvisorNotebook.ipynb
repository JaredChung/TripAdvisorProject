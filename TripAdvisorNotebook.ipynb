{
 "cells": [
  {
   "cell_type": "markdown",
   "metadata": {},
   "source": [
    "# Sentiment Analysis of Sydney TripAdvisor Reviews"
   ]
  },
  {
   "cell_type": "code",
   "execution_count": 2,
   "metadata": {
    "collapsed": true
   },
   "outputs": [],
   "source": [
    "import pandas as pd\n",
    "import numpy as np\n",
    "import matplotlib.pyplot as plt\n",
    "%matplotlib inline"
   ]
  },
  {
   "cell_type": "markdown",
   "metadata": {},
   "source": [
    "## Preprocessing of Data"
   ]
  },
  {
   "cell_type": "code",
   "execution_count": 3,
   "metadata": {
    "collapsed": false,
    "scrolled": true
   },
   "outputs": [],
   "source": [
    "data1 = pd.read_csv(\"TripAdviser+Reviews.csv\")\n",
    "data2 = pd.read_csv(\"TripAdviser+Reviews2.csv\")\n",
    "data3 = pd.read_csv(\"TripAdviser+Reviews3.csv\")\n",
    "data4 = pd.read_csv(\"TripAdviser+Reviews4.csv\")\n",
    "data = pd.concat([data1,data2,data3,data4],join='outer')"
   ]
  },
  {
   "cell_type": "code",
   "execution_count": 4,
   "metadata": {
    "collapsed": false
   },
   "outputs": [],
   "source": [
    "data['Restaurant Count'].fillna(0,inplace=True)\n",
    "data['Review'].fillna(0,inplace=True)\n",
    "data['Review Count'].fillna(0,inplace=True)\n",
    "data['Helpful Count'].fillna(0,inplace=True)"
   ]
  },
  {
   "cell_type": "code",
   "execution_count": null,
   "metadata": {
    "collapsed": true
   },
   "outputs": [],
   "source": [
    "def preprocessing(x):\n",
    "    \n",
    "    x = x.lower()\n",
    "   \n",
    "    x = x.replace(\"...\",\"\")\n",
    "    x = x.replace()"
   ]
  },
  {
   "cell_type": "code",
   "execution_count": 25,
   "metadata": {
    "collapsed": false
   },
   "outputs": [
    {
     "data": {
      "text/html": [
       "<div>\n",
       "<table border=\"1\" class=\"dataframe\">\n",
       "  <thead>\n",
       "    <tr style=\"text-align: right;\">\n",
       "      <th></th>\n",
       "      <th>Organization</th>\n",
       "      <th>Address</th>\n",
       "      <th>Reviewer</th>\n",
       "      <th>Review Title</th>\n",
       "      <th>Review</th>\n",
       "      <th>Review Count</th>\n",
       "      <th>Helpful Count</th>\n",
       "      <th>Restaurant Count</th>\n",
       "      <th>Location</th>\n",
       "      <th>Rating Date</th>\n",
       "      <th>Rating</th>\n",
       "    </tr>\n",
       "  </thead>\n",
       "  <tbody>\n",
       "    <tr>\n",
       "      <th>0</th>\n",
       "      <td>Twenty 8 Acres</td>\n",
       "      <td>Shop 1 74-80 Ivy Street | Chippendale-Darlingt...</td>\n",
       "      <td>Narziss</td>\n",
       "      <td>Lives up to its reputation</td>\n",
       "      <td>We visited this caf / restaurant because of it...</td>\n",
       "      <td>374</td>\n",
       "      <td>98</td>\n",
       "      <td>134</td>\n",
       "      <td>New Zealand</td>\n",
       "      <td>4 days ago</td>\n",
       "      <td>4</td>\n",
       "    </tr>\n",
       "    <tr>\n",
       "      <th>1</th>\n",
       "      <td>Twenty 8 Acres</td>\n",
       "      <td>Shop 1 74-80 Ivy Street | Chippendale-Darlingt...</td>\n",
       "      <td>A_brown45</td>\n",
       "      <td>Lives up to its reputation</td>\n",
       "      <td>We visited this caf / restaurant because of it...</td>\n",
       "      <td>7</td>\n",
       "      <td>1</td>\n",
       "      <td>5</td>\n",
       "      <td>Sydney  New South Wales</td>\n",
       "      <td>4 days ago</td>\n",
       "      <td>4</td>\n",
       "    </tr>\n",
       "    <tr>\n",
       "      <th>2</th>\n",
       "      <td>Twenty 8 Acres</td>\n",
       "      <td>Shop 1 74-80 Ivy Street | Chippendale-Darlingt...</td>\n",
       "      <td>Me B</td>\n",
       "      <td>Wow!! Amazing Experience !!</td>\n",
       "      <td>I chose this place because of TripAdvisor high...</td>\n",
       "      <td>2</td>\n",
       "      <td>0</td>\n",
       "      <td>0</td>\n",
       "      <td>Sydney  New South Wales</td>\n",
       "      <td>4 days ago</td>\n",
       "      <td>5</td>\n",
       "    </tr>\n",
       "    <tr>\n",
       "      <th>3</th>\n",
       "      <td>Twenty 8 Acres</td>\n",
       "      <td>Shop 1 74-80 Ivy Street | Chippendale-Darlingt...</td>\n",
       "      <td>funkypelican</td>\n",
       "      <td>Friendly staff - fantastic food</td>\n",
       "      <td>The staff - including the chefs - are incredib...</td>\n",
       "      <td>10</td>\n",
       "      <td>9</td>\n",
       "      <td>0</td>\n",
       "      <td>Sydney  New South Wales</td>\n",
       "      <td>1 week ago</td>\n",
       "      <td>5</td>\n",
       "    </tr>\n",
       "    <tr>\n",
       "      <th>4</th>\n",
       "      <td>Twenty 8 Acres</td>\n",
       "      <td>Shop 1 74-80 Ivy Street | Chippendale-Darlingt...</td>\n",
       "      <td>shazcmac</td>\n",
       "      <td>This is a great value restaurant with people w...</td>\n",
       "      <td>The food and service is excellent.It is small ...</td>\n",
       "      <td>2</td>\n",
       "      <td>0</td>\n",
       "      <td>0</td>\n",
       "      <td>Sydney  New South Wales</td>\n",
       "      <td>1 week ago</td>\n",
       "      <td>5</td>\n",
       "    </tr>\n",
       "  </tbody>\n",
       "</table>\n",
       "</div>"
      ],
      "text/plain": [
       "     Organization                                            Address  \\\n",
       "0  Twenty 8 Acres  Shop 1 74-80 Ivy Street | Chippendale-Darlingt...   \n",
       "1  Twenty 8 Acres  Shop 1 74-80 Ivy Street | Chippendale-Darlingt...   \n",
       "2  Twenty 8 Acres  Shop 1 74-80 Ivy Street | Chippendale-Darlingt...   \n",
       "3  Twenty 8 Acres  Shop 1 74-80 Ivy Street | Chippendale-Darlingt...   \n",
       "4  Twenty 8 Acres  Shop 1 74-80 Ivy Street | Chippendale-Darlingt...   \n",
       "\n",
       "       Reviewer                                       Review Title  \\\n",
       "0       Narziss                         Lives up to its reputation   \n",
       "1     A_brown45                         Lives up to its reputation   \n",
       "2          Me B                        Wow!! Amazing Experience !!   \n",
       "3  funkypelican                    Friendly staff - fantastic food   \n",
       "4      shazcmac  This is a great value restaurant with people w...   \n",
       "\n",
       "                                              Review Review Count  \\\n",
       "0  We visited this caf / restaurant because of it...          374   \n",
       "1  We visited this caf / restaurant because of it...            7   \n",
       "2  I chose this place because of TripAdvisor high...            2   \n",
       "3  The staff - including the chefs - are incredib...           10   \n",
       "4  The food and service is excellent.It is small ...            2   \n",
       "\n",
       "  Helpful Count Restaurant Count                 Location Rating Date  Rating  \n",
       "0            98              134              New Zealand  4 days ago       4  \n",
       "1             1                5  Sydney  New South Wales  4 days ago       4  \n",
       "2             0                0  Sydney  New South Wales  4 days ago       5  \n",
       "3             9                0  Sydney  New South Wales  1 week ago       5  \n",
       "4             0                0  Sydney  New South Wales  1 week ago       5  "
      ]
     },
     "execution_count": 25,
     "metadata": {},
     "output_type": "execute_result"
    }
   ],
   "source": [
    "data.head()"
   ]
  },
  {
   "cell_type": "code",
   "execution_count": 21,
   "metadata": {
    "collapsed": false,
    "scrolled": true
   },
   "outputs": [
    {
     "name": "stdout",
     "output_type": "stream",
     "text": [
      "<class 'pandas.core.frame.DataFrame'>\n",
      "Int64Index: 130350 entries, 0 to 489\n",
      "Data columns (total 11 columns):\n",
      "Organization        118132 non-null object\n",
      "Address             130347 non-null object\n",
      "Reviewer            130341 non-null object\n",
      "Review Title        130339 non-null object\n",
      "Review              130350 non-null object\n",
      "Review Count        130350 non-null object\n",
      "Helpful Count       130350 non-null object\n",
      "Restaurant Count    130350 non-null object\n",
      "Location            127691 non-null object\n",
      "Rating Date         130311 non-null object\n",
      "Rating              118095 non-null float64\n",
      "dtypes: float64(1), object(10)\n",
      "memory usage: 11.9+ MB\n"
     ]
    }
   ],
   "source": [
    "data.info()"
   ]
  },
  {
   "cell_type": "code",
   "execution_count": 5,
   "metadata": {
    "collapsed": false,
    "scrolled": false
   },
   "outputs": [
    {
     "data": {
      "text/plain": [
       "Organization        12218\n",
       "Address                 3\n",
       "Reviewer                9\n",
       "Review Title           11\n",
       "Review                  0\n",
       "Review Count            0\n",
       "Helpful Count           0\n",
       "Restaurant Count        0\n",
       "Location             2659\n",
       "Rating Date            39\n",
       "Rating              12255\n",
       "dtype: int64"
      ]
     },
     "execution_count": 5,
     "metadata": {},
     "output_type": "execute_result"
    }
   ],
   "source": [
    "data.isnull().sum()"
   ]
  },
  {
   "cell_type": "code",
   "execution_count": 7,
   "metadata": {
    "collapsed": false
   },
   "outputs": [
    {
     "data": {
      "text/plain": [
       "array(['4 days ago', '1 week ago', '2 weeks ago', ..., '27 June 2013',\n",
       "       '8 July 2008', '4 February 2013'], dtype=object)"
      ]
     },
     "execution_count": 7,
     "metadata": {},
     "output_type": "execute_result"
    }
   ],
   "source": [
    "data['Rating Date'].unique()"
   ]
  },
  {
   "cell_type": "code",
   "execution_count": 7,
   "metadata": {
    "collapsed": false,
    "scrolled": false
   },
   "outputs": [
    {
     "data": {
      "text/plain": [
       "Rating\n",
       "5    48940\n",
       "4    43126\n",
       "3    14088\n",
       "2     6068\n",
       "1     5873\n",
       "dtype: int64"
      ]
     },
     "execution_count": 7,
     "metadata": {},
     "output_type": "execute_result"
    }
   ],
   "source": [
    "data.groupby('Rating').size().order(ascending=False).head()"
   ]
  },
  {
   "cell_type": "code",
   "execution_count": 149,
   "metadata": {
    "collapsed": false,
    "scrolled": true
   },
   "outputs": [
    {
     "data": {
      "text/html": [
       "<div>\n",
       "<table border=\"1\" class=\"dataframe\">\n",
       "  <thead>\n",
       "    <tr style=\"text-align: right;\">\n",
       "      <th></th>\n",
       "      <th>Organization</th>\n",
       "      <th>Boolean</th>\n",
       "    </tr>\n",
       "  </thead>\n",
       "  <tbody>\n",
       "    <tr>\n",
       "      <th>0</th>\n",
       "      <td>1 Abercrombie Lane</td>\n",
       "      <td>True</td>\n",
       "    </tr>\n",
       "    <tr>\n",
       "      <th>1</th>\n",
       "      <td>10 William Street - Bar</td>\n",
       "      <td>True</td>\n",
       "    </tr>\n",
       "    <tr>\n",
       "      <th>2</th>\n",
       "      <td>117 Dining</td>\n",
       "      <td>False</td>\n",
       "    </tr>\n",
       "    <tr>\n",
       "      <th>3</th>\n",
       "      <td>121BC Cantina &amp; Enoteca</td>\n",
       "      <td>True</td>\n",
       "    </tr>\n",
       "    <tr>\n",
       "      <th>4</th>\n",
       "      <td>1888 Hotel Eatery &amp; Bar</td>\n",
       "      <td>True</td>\n",
       "    </tr>\n",
       "    <tr>\n",
       "      <th>5</th>\n",
       "      <td>2042 Cafe &amp; Deli</td>\n",
       "      <td>True</td>\n",
       "    </tr>\n",
       "    <tr>\n",
       "      <th>6</th>\n",
       "      <td>28/3/15</td>\n",
       "      <td>False</td>\n",
       "    </tr>\n",
       "    <tr>\n",
       "      <th>7</th>\n",
       "      <td>3 Mama Chef's</td>\n",
       "      <td>True</td>\n",
       "    </tr>\n",
       "    <tr>\n",
       "      <th>8</th>\n",
       "      <td>3 Olives</td>\n",
       "      <td>True</td>\n",
       "    </tr>\n",
       "    <tr>\n",
       "      <th>9</th>\n",
       "      <td>3 Seasons Thai Fusion Food</td>\n",
       "      <td>True</td>\n",
       "    </tr>\n",
       "    <tr>\n",
       "      <th>10</th>\n",
       "      <td>3 Weeds Restaurant</td>\n",
       "      <td>True</td>\n",
       "    </tr>\n",
       "    <tr>\n",
       "      <th>11</th>\n",
       "      <td>3 Wise Monkeys</td>\n",
       "      <td>True</td>\n",
       "    </tr>\n",
       "    <tr>\n",
       "      <th>12</th>\n",
       "      <td>360 Bar and Dining</td>\n",
       "      <td>True</td>\n",
       "    </tr>\n",
       "    <tr>\n",
       "      <th>13</th>\n",
       "      <td>360 Degrees Cafe and Bar</td>\n",
       "      <td>False</td>\n",
       "    </tr>\n",
       "    <tr>\n",
       "      <th>14</th>\n",
       "      <td>4 Fourteen</td>\n",
       "      <td>True</td>\n",
       "    </tr>\n",
       "    <tr>\n",
       "      <th>15</th>\n",
       "      <td>414 Bourke Street</td>\n",
       "      <td>True</td>\n",
       "    </tr>\n",
       "    <tr>\n",
       "      <th>16</th>\n",
       "      <td>5 Boroughs</td>\n",
       "      <td>True</td>\n",
       "    </tr>\n",
       "    <tr>\n",
       "      <th>17</th>\n",
       "      <td>7ettimo</td>\n",
       "      <td>True</td>\n",
       "    </tr>\n",
       "    <tr>\n",
       "      <th>18</th>\n",
       "      <td>91 Oxford</td>\n",
       "      <td>False</td>\n",
       "    </tr>\n",
       "    <tr>\n",
       "      <th>19</th>\n",
       "      <td>A Tavola</td>\n",
       "      <td>True</td>\n",
       "    </tr>\n",
       "    <tr>\n",
       "      <th>20</th>\n",
       "      <td>ARIA Restaurant</td>\n",
       "      <td>True</td>\n",
       "    </tr>\n",
       "    <tr>\n",
       "      <th>21</th>\n",
       "      <td>Abb Air - Thai Cuisine 1982</td>\n",
       "      <td>True</td>\n",
       "    </tr>\n",
       "    <tr>\n",
       "      <th>22</th>\n",
       "      <td>Abduls</td>\n",
       "      <td>True</td>\n",
       "    </tr>\n",
       "    <tr>\n",
       "      <th>23</th>\n",
       "      <td>Abhi's Indian Restaurant</td>\n",
       "      <td>True</td>\n",
       "    </tr>\n",
       "    <tr>\n",
       "      <th>24</th>\n",
       "      <td>Abode Bistro Bar</td>\n",
       "      <td>True</td>\n",
       "    </tr>\n",
       "    <tr>\n",
       "      <th>25</th>\n",
       "      <td>Acme Restaurant and Bar</td>\n",
       "      <td>True</td>\n",
       "    </tr>\n",
       "    <tr>\n",
       "      <th>26</th>\n",
       "      <td>Adams Pizzeria</td>\n",
       "      <td>False</td>\n",
       "    </tr>\n",
       "    <tr>\n",
       "      <th>27</th>\n",
       "      <td>Adriano Zumbo</td>\n",
       "      <td>True</td>\n",
       "    </tr>\n",
       "    <tr>\n",
       "      <th>28</th>\n",
       "      <td>Aegean Blu</td>\n",
       "      <td>True</td>\n",
       "    </tr>\n",
       "    <tr>\n",
       "      <th>29</th>\n",
       "      <td>Aero Cafe &amp; Bar</td>\n",
       "      <td>True</td>\n",
       "    </tr>\n",
       "    <tr>\n",
       "      <th>...</th>\n",
       "      <td>...</td>\n",
       "      <td>...</td>\n",
       "    </tr>\n",
       "    <tr>\n",
       "      <th>1537</th>\n",
       "      <td>Zaida</td>\n",
       "      <td>True</td>\n",
       "    </tr>\n",
       "    <tr>\n",
       "      <th>1538</th>\n",
       "      <td>Zambrero</td>\n",
       "      <td>False</td>\n",
       "    </tr>\n",
       "    <tr>\n",
       "      <th>1539</th>\n",
       "      <td>Zebra Green Cafe and Bar</td>\n",
       "      <td>False</td>\n",
       "    </tr>\n",
       "    <tr>\n",
       "      <th>1540</th>\n",
       "      <td>Zetabar</td>\n",
       "      <td>True</td>\n",
       "    </tr>\n",
       "    <tr>\n",
       "      <th>1541</th>\n",
       "      <td>Zeus Street Greek</td>\n",
       "      <td>False</td>\n",
       "    </tr>\n",
       "    <tr>\n",
       "      <th>1542</th>\n",
       "      <td>Zi Teresa Pizza &amp; Pasta House</td>\n",
       "      <td>False</td>\n",
       "    </tr>\n",
       "    <tr>\n",
       "      <th>1543</th>\n",
       "      <td>Zia Pina Pizzeria</td>\n",
       "      <td>True</td>\n",
       "    </tr>\n",
       "    <tr>\n",
       "      <th>1544</th>\n",
       "      <td>Zigi's Wine &amp; Cheese Bar</td>\n",
       "      <td>False</td>\n",
       "    </tr>\n",
       "    <tr>\n",
       "      <th>1545</th>\n",
       "      <td>Zilver</td>\n",
       "      <td>True</td>\n",
       "    </tr>\n",
       "    <tr>\n",
       "      <th>1546</th>\n",
       "      <td>Zilver Bondi</td>\n",
       "      <td>False</td>\n",
       "    </tr>\n",
       "    <tr>\n",
       "      <th>1547</th>\n",
       "      <td>Zinc cafe</td>\n",
       "      <td>True</td>\n",
       "    </tr>\n",
       "    <tr>\n",
       "      <th>1548</th>\n",
       "      <td>Zushi Surry Hills</td>\n",
       "      <td>True</td>\n",
       "    </tr>\n",
       "    <tr>\n",
       "      <th>1549</th>\n",
       "      <td>bei amici</td>\n",
       "      <td>True</td>\n",
       "    </tr>\n",
       "    <tr>\n",
       "      <th>1550</th>\n",
       "      <td>bistrode CBD</td>\n",
       "      <td>True</td>\n",
       "    </tr>\n",
       "    <tr>\n",
       "      <th>1551</th>\n",
       "      <td>choc pancakes with choc ice cream &amp; choc syrup...</td>\n",
       "      <td>False</td>\n",
       "    </tr>\n",
       "    <tr>\n",
       "      <th>1552</th>\n",
       "      <td>clover cafe</td>\n",
       "      <td>True</td>\n",
       "    </tr>\n",
       "    <tr>\n",
       "      <th>1553</th>\n",
       "      <td>drummoyne sailing club</td>\n",
       "      <td>True</td>\n",
       "    </tr>\n",
       "    <tr>\n",
       "      <th>1554</th>\n",
       "      <td>fab!!</td>\n",
       "      <td>False</td>\n",
       "    </tr>\n",
       "    <tr>\n",
       "      <th>1555</th>\n",
       "      <td>first drop</td>\n",
       "      <td>True</td>\n",
       "    </tr>\n",
       "    <tr>\n",
       "      <th>1556</th>\n",
       "      <td>franchi brothers Italian Bar</td>\n",
       "      <td>True</td>\n",
       "    </tr>\n",
       "    <tr>\n",
       "      <th>1557</th>\n",
       "      <td>hungry bites</td>\n",
       "      <td>False</td>\n",
       "    </tr>\n",
       "    <tr>\n",
       "      <th>1558</th>\n",
       "      <td>hungry jacks</td>\n",
       "      <td>True</td>\n",
       "    </tr>\n",
       "    <tr>\n",
       "      <th>1559</th>\n",
       "      <td>kujin</td>\n",
       "      <td>True</td>\n",
       "    </tr>\n",
       "    <tr>\n",
       "      <th>1560</th>\n",
       "      <td>malacca straits on broadway</td>\n",
       "      <td>True</td>\n",
       "    </tr>\n",
       "    <tr>\n",
       "      <th>1561</th>\n",
       "      <td>mercantile hotel!</td>\n",
       "      <td>True</td>\n",
       "    </tr>\n",
       "    <tr>\n",
       "      <th>1562</th>\n",
       "      <td>misschu sydney cbd tuckshp</td>\n",
       "      <td>False</td>\n",
       "    </tr>\n",
       "    <tr>\n",
       "      <th>1563</th>\n",
       "      <td>nourishing quarter</td>\n",
       "      <td>True</td>\n",
       "    </tr>\n",
       "    <tr>\n",
       "      <th>1564</th>\n",
       "      <td>popolo</td>\n",
       "      <td>True</td>\n",
       "    </tr>\n",
       "    <tr>\n",
       "      <th>1565</th>\n",
       "      <td>reuben&amp; Moore</td>\n",
       "      <td>True</td>\n",
       "    </tr>\n",
       "    <tr>\n",
       "      <th>1566</th>\n",
       "      <td>sixpenny</td>\n",
       "      <td>True</td>\n",
       "    </tr>\n",
       "  </tbody>\n",
       "</table>\n",
       "<p>1567 rows × 2 columns</p>\n",
       "</div>"
      ],
      "text/plain": [
       "                                           Organization Boolean\n",
       "0                                    1 Abercrombie Lane    True\n",
       "1                               10 William Street - Bar    True\n",
       "2                                            117 Dining   False\n",
       "3                               121BC Cantina & Enoteca    True\n",
       "4                               1888 Hotel Eatery & Bar    True\n",
       "5                                      2042 Cafe & Deli    True\n",
       "6                                               28/3/15   False\n",
       "7                                         3 Mama Chef's    True\n",
       "8                                              3 Olives    True\n",
       "9                            3 Seasons Thai Fusion Food    True\n",
       "10                                   3 Weeds Restaurant    True\n",
       "11                                       3 Wise Monkeys    True\n",
       "12                                   360 Bar and Dining    True\n",
       "13                             360 Degrees Cafe and Bar   False\n",
       "14                                           4 Fourteen    True\n",
       "15                                    414 Bourke Street    True\n",
       "16                                           5 Boroughs    True\n",
       "17                                              7ettimo    True\n",
       "18                                            91 Oxford   False\n",
       "19                                             A Tavola    True\n",
       "20                                      ARIA Restaurant    True\n",
       "21                          Abb Air - Thai Cuisine 1982    True\n",
       "22                                               Abduls    True\n",
       "23                             Abhi's Indian Restaurant    True\n",
       "24                                     Abode Bistro Bar    True\n",
       "25                              Acme Restaurant and Bar    True\n",
       "26                                       Adams Pizzeria   False\n",
       "27                                        Adriano Zumbo    True\n",
       "28                                           Aegean Blu    True\n",
       "29                                      Aero Cafe & Bar    True\n",
       "...                                                 ...     ...\n",
       "1537                                              Zaida    True\n",
       "1538                                           Zambrero   False\n",
       "1539                           Zebra Green Cafe and Bar   False\n",
       "1540                                            Zetabar    True\n",
       "1541                                  Zeus Street Greek   False\n",
       "1542                      Zi Teresa Pizza & Pasta House   False\n",
       "1543                                  Zia Pina Pizzeria    True\n",
       "1544                           Zigi's Wine & Cheese Bar   False\n",
       "1545                                             Zilver    True\n",
       "1546                                       Zilver Bondi   False\n",
       "1547                                          Zinc cafe    True\n",
       "1548                                  Zushi Surry Hills    True\n",
       "1549                                          bei amici    True\n",
       "1550                                       bistrode CBD    True\n",
       "1551  choc pancakes with choc ice cream & choc syrup...   False\n",
       "1552                                        clover cafe    True\n",
       "1553                             drummoyne sailing club    True\n",
       "1554                                              fab!!   False\n",
       "1555                                         first drop    True\n",
       "1556                       franchi brothers Italian Bar    True\n",
       "1557                                       hungry bites   False\n",
       "1558                                       hungry jacks    True\n",
       "1559                                              kujin    True\n",
       "1560                        malacca straits on broadway    True\n",
       "1561                                  mercantile hotel!    True\n",
       "1562                         misschu sydney cbd tuckshp   False\n",
       "1563                                 nourishing quarter    True\n",
       "1564                                             popolo    True\n",
       "1565                                      reuben& Moore    True\n",
       "1566                                           sixpenny    True\n",
       "\n",
       "[1567 rows x 2 columns]"
      ]
     },
     "execution_count": 149,
     "metadata": {},
     "output_type": "execute_result"
    }
   ],
   "source": [
    "x = data1.groupby(\"Organization\").size() > 10\n",
    "x = pd.DataFrame(x).reset_index()\n",
    "x.rename(columns={0:'Boolean'}, inplace=True)\n",
    "x"
   ]
  },
  {
   "cell_type": "code",
   "execution_count": 137,
   "metadata": {
    "collapsed": false,
    "scrolled": true
   },
   "outputs": [
    {
     "data": {
      "text/plain": [
       "<matplotlib.axes._subplots.AxesSubplot at 0x21d86470>"
      ]
     },
     "execution_count": 137,
     "metadata": {},
     "output_type": "execute_result"
    },
    {
     "data": {
      "image/png": "[encoded data removed]",
      "text/plain": [
       "<matplotlib.figure.Figure at 0x143350f0>"
      ]
     },
     "metadata": {},
     "output_type": "display_data"
    }
   ],
   "source": [
    "data.groupby('Location').size().order(ascending=False).head(5).plot(kind='bar')"
   ]
  },
  {
   "cell_type": "markdown",
   "metadata": {},
   "source": [
    "## Model Building and Validation"
   ]
  },
  {
   "cell_type": "code",
   "execution_count": 32,
   "metadata": {
    "collapsed": false,
    "scrolled": false
   },
   "outputs": [],
   "source": [
    "# Preparing information for Model Building\n",
    "d =data[['Review','Rating']]\n",
    "#d = d[d.Rating != 3] #Not using reviews with a rating of three for now\n",
    "d = d.dropna(how='any')\n",
    "d = d.drop_duplicates()"
   ]
  },
  {
   "cell_type": "code",
   "execution_count": 33,
   "metadata": {
    "collapsed": false
   },
   "outputs": [],
   "source": [
    "#Create Sentiment Column where \"Positive\" are ratings 4,5 and \"Negative\" are 1,2 \n",
    "def Sentiment(x):\n",
    "    if x > 3:\n",
    "        return 1\n",
    "    else:\n",
    "        return 0\n",
    "    \n",
    "d['Sentiment'] = d.Rating.apply(lambda x: Sentiment(x)) "
   ]
  },
  {
   "cell_type": "code",
   "execution_count": 34,
   "metadata": {
    "collapsed": true
   },
   "outputs": [],
   "source": [
    "X = d.Review\n",
    "Y = d.Sentiment"
   ]
  },
  {
   "cell_type": "code",
   "execution_count": 35,
   "metadata": {
    "collapsed": false,
    "scrolled": true
   },
   "outputs": [],
   "source": [
    "from sklearn.cross_validation import train_test_split\n",
    "train_X, test_X, train_Y, test_Y = train_test_split(X,Y, test_size=0.2, random_state=42)"
   ]
  },
  {
   "cell_type": "code",
   "execution_count": 36,
   "metadata": {
    "collapsed": true
   },
   "outputs": [],
   "source": [
    "#Modules to be used for Building\n",
    "from sklearn.metrics import confusion_matrix\n",
    "from sklearn import metrics\n",
    "from sklearn.metrics import roc_curve, auc\n",
    "from nltk.stem import WordNetLemmatizer\n",
    "from nltk import word_tokenize\n",
    "from nltk.corpus import stopwords"
   ]
  },
  {
   "cell_type": "code",
   "execution_count": 37,
   "metadata": {
    "collapsed": true
   },
   "outputs": [],
   "source": [
    "from nltk.stem import WordNetLemmatizer\n",
    "\n",
    "lemma = WordNetLemmatizer()\n",
    "\n",
    "def lemma_tokens(tokens, lemma):\n",
    "    lemmatized = []\n",
    "    for item in tokens:\n",
    "        lemmatized.append(lemma.lemmatize(item))\n",
    "    return lemmatized"
   ]
  },
  {
   "cell_type": "code",
   "execution_count": 38,
   "metadata": {
    "collapsed": true
   },
   "outputs": [],
   "source": [
    "def tokenize(text):\n",
    "    tokens = word_tokenize(text)\n",
    "    tokens = [word for word in tokens if word not in stopwords.words('english')]\n",
    "    lemmas = lemma_tokens(tokens, lemma)\n",
    "    return ' '.join(lemmas)"
   ]
  },
  {
   "cell_type": "code",
   "execution_count": 39,
   "metadata": {
    "collapsed": false
   },
   "outputs": [],
   "source": [
    "#--- Training set\n",
    "from sklearn.feature_extraction.text import CountVectorizer\n",
    "from sklearn.feature_extraction.text import TfidfTransformer\n",
    "\n",
    "corpus = []\n",
    "for text in train_X:\n",
    "    text = text.lower()\n",
    "    text=tokenize(text)\n",
    "    corpus.append(text)\n",
    "    \n",
    "count_vect = CountVectorizer()\n",
    "train_X_counts = count_vect.fit_transform(corpus)        \n",
    "        \n",
    "tfidf_transformer = TfidfTransformer()\n",
    "train_X_tfidf = tfidf_transformer.fit_transform(train_X_counts)"
   ]
  },
  {
   "cell_type": "code",
   "execution_count": 14,
   "metadata": {
    "collapsed": false
   },
   "outputs": [],
   "source": [
    "def processtrain(x):\n",
    "    corpus = []\n",
    "    for text in x:\n",
    "        text = text.lower()\n",
    "        text=tokenize(text)\n",
    "        corpus.append(text)\n",
    "    count_vect = CountVectorizer()\n",
    "    train_X_counts = count_vect.fit_transform(corpus)        \n",
    "        \n",
    "    tfidf_transformer = TfidfTransformer()\n",
    "    train_X_tfidf = tfidf_transformer.fit_transform(train_X_counts)\n",
    "    \n",
    "    return train_X_tfidf\n",
    "train_X_tfidf = processtrain(train_X)"
   ]
  },
  {
   "cell_type": "code",
   "execution_count": null,
   "metadata": {
    "collapsed": true
   },
   "outputs": [],
   "source": [
    "def processtest(x):\n",
    "    corpus = []\n",
    "    for text in x:\n",
    "        text = text.lower()\n",
    "        text=tokenize(text)\n",
    "        corpus.append(text)\n",
    "    \n",
    "    test_X_counts = count_vect.transform(test_set)\n",
    "    X_test_tfidf = tfidf_transformer.transform(test_X_counts)\n",
    "    \n",
    "    return X_test_tfidf\n",
    "X_test_tfidf = processtest(test_X)"
   ]
  },
  {
   "cell_type": "code",
   "execution_count": 40,
   "metadata": {
    "collapsed": false
   },
   "outputs": [],
   "source": [
    "#--- Test set\n",
    "\n",
    "test_set = []\n",
    "for text in test_X:\n",
    "    text = text.lower()\n",
    "    text=tokenize(text)\n",
    "    test_set.append(text)\n",
    "\n",
    "test_X_counts = count_vect.transform(test_set)\n",
    "X_test_tfidf = tfidf_transformer.transform(test_X_counts)\n",
    "\n"
   ]
  },
  {
   "cell_type": "code",
   "execution_count": 26,
   "metadata": {
    "collapsed": false,
    "scrolled": true
   },
   "outputs": [
    {
     "name": "stdout",
     "output_type": "stream",
     "text": [
      "                                                   After  \\\n",
      "87916  love coming . 's always good value quality . '...   \n",
      "26815  liked food delish pizza bit dark inside pleasa...   \n",
      "69940  bought groupon deal 2 people bargain . food ni...   \n",
      "87981  oak icon lower nth shore sydney great central ...   \n",
      "69256  really liked place today terrible experience ....   \n",
      "31147  great little pub stopped pint way back hotel ....   \n",
      "31253  stopped pub couple time cold beer . old-school...   \n",
      "390    went lunch xmas . overall pleasant experience ...   \n",
      "76787  finished long day eternity playhouse across ro...   \n",
      "55238  great food ... . ! cash . empty restaurant . w...   \n",
      "64264  heard good thing place thought book make sure ...   \n",
      "45447  found place coincidence tried 3 time till got ...   \n",
      "45734  went birthday dinner . first wrong cocktail . ...   \n",
      "26260  amazing time atmosphere relaxing yet inviting ...   \n",
      "10032  5 week visit sydney dinner . price lunch quite...   \n",
      "76180  spied special board outside establishment . $ ...   \n",
      "16949  chose restaurant dinner group 10 pleasantly su...   \n",
      "20985  researched tripadvisor alot found restaurant v...   \n",
      "87087  decided visit put restaurant bucket list hones...   \n",
      "63837  walking past fish market darling harbour decid...   \n",
      "\n",
      "                                                  Before  \n",
      "87916  I love coming here. It's always good value and...  \n",
      "26815  what we liked was the food delish pizzas a bit...  \n",
      "69940  We bought a Groupon deal for 2 people which wa...  \n",
      "87981  The Oaks is an icon on the lower Nth Shore of ...  \n",
      "69256  I really liked this place  but today I had a t...  \n",
      "31147  Great little pub  stopped in for a pint on the...  \n",
      "31253  Stopped by this pub a couple of times for a co...  \n",
      "390    Went there for lunch before Xmas. Overall it w...  \n",
      "76787  We had finished a very long day at the Eternit...  \n",
      "55238  Great food.... But! Cash only. Empty restauran...  \n",
      "64264  Had heard very good things about this place so...  \n",
      "45447  We found the place by coincidence and tried 3 ...  \n",
      "45734  Went for birthday dinner. First wrong cocktail...  \n",
      "26260  Had an amazing time  the atmosphere is relaxin...  \n",
      "10032  During a 5 week visit to Sydney we had dinner ...  \n",
      "76180  Spied the specials board outside this establis...  \n",
      "16949  Chose this restaurant for a dinner with a grou...  \n",
      "20985  I researched on Tripadvisor alot before I foun...  \n",
      "87087  we decided to visit after a while that we put ...  \n",
      "63837  Just walking past from Fish Markets to Darling...  \n"
     ]
    }
   ],
   "source": [
    "df = pd.DataFrame({'Before': train_X, 'After': corpus})\n",
    "print(df.head(20))"
   ]
  },
  {
   "cell_type": "code",
   "execution_count": 42,
   "metadata": {
    "collapsed": false
   },
   "outputs": [],
   "source": [
    "from sklearn.linear_model import LogisticRegressionCV\n",
    "logreg = LogisticRegressionCV(class_weight = 'balanced',cv = 5)\n",
    "logreg.fit(train_X_tfidf, train_Y)\n",
    "predict_log = logreg.predict(X_test_tfidf)"
   ]
  },
  {
   "cell_type": "code",
   "execution_count": null,
   "metadata": {
    "collapsed": true
   },
   "outputs": [],
   "source": [
    "logReg.predict()"
   ]
  },
  {
   "cell_type": "code",
   "execution_count": 43,
   "metadata": {
    "collapsed": false
   },
   "outputs": [
    {
     "data": {
      "text/plain": [
       "array([0, 1, 0, ..., 0, 0, 1])"
      ]
     },
     "execution_count": 43,
     "metadata": {},
     "output_type": "execute_result"
    }
   ],
   "source": [
    "predict_log"
   ]
  },
  {
   "cell_type": "code",
   "execution_count": 44,
   "metadata": {
    "collapsed": false,
    "scrolled": true
   },
   "outputs": [
    {
     "data": {
      "text/plain": [
       "<bound method LogisticRegressionCV.get_params of LogisticRegressionCV(Cs=10, class_weight='balanced', cv=5, dual=False,\n",
       "           fit_intercept=True, intercept_scaling=1.0, max_iter=100,\n",
       "           multi_class='ovr', n_jobs=1, penalty='l2', random_state=None,\n",
       "           refit=True, scoring=None, solver='lbfgs', tol=0.0001, verbose=0)>"
      ]
     },
     "execution_count": 44,
     "metadata": {},
     "output_type": "execute_result"
    }
   ],
   "source": [
    "logreg.get_params"
   ]
  },
  {
   "cell_type": "code",
   "execution_count": 45,
   "metadata": {
    "collapsed": false,
    "scrolled": true
   },
   "outputs": [
    {
     "name": "stdout",
     "output_type": "stream",
     "text": [
      "[[ 4249  2152]\n",
      " [  904 15058]]\n"
     ]
    }
   ],
   "source": [
    "print metrics.confusion_matrix(predict_log,test_Y)"
   ]
  },
  {
   "cell_type": "code",
   "execution_count": 46,
   "metadata": {
    "collapsed": false,
    "scrolled": false
   },
   "outputs": [
    {
     "name": "stdout",
     "output_type": "stream",
     "text": [
      "             precision    recall  f1-score   support\n",
      "\n",
      "          0       0.82      0.66      0.74      6401\n",
      "          1       0.87      0.94      0.91     15962\n",
      "\n",
      "avg / total       0.86      0.86      0.86     22363\n",
      "\n"
     ]
    }
   ],
   "source": [
    "# Model Validation\n",
    "print metrics.classification_report(predict_log,test_Y)"
   ]
  },
  {
   "cell_type": "code",
   "execution_count": null,
   "metadata": {
    "collapsed": false
   },
   "outputs": [],
   "source": [
    "from sklearn.ensemble import RandomForestClassifier\n",
    "from sklearn.grid_search import GridSearchCV\n",
    "\n",
    "param_grid = {\"max_depth\": [3, None],\n",
    "              \"max_features\" :[\"auto\",None,\"sqrt\"],\n",
    "              \"min_samples_split\": [1, 3, 10],\n",
    "              \"min_samples_leaf\": [1, 3, 10],\n",
    "              \"bootstrap\": [True, False],\n",
    "              \"criterion\": [\"gini\", \"entropy\"],\n",
    "              \"n_estimators\": [10, 20, 40, 80,100]}\n",
    "\n",
    "gs = GridSearchCV(RandomForestClassifier(), param_grid=param_grid, n_jobs=-1)\n",
    "gs.fit(train_X_tfidf, train_Y)\n",
    "predict_forest = forest.predict(X_test_tfidf)"
   ]
  },
  {
   "cell_type": "code",
   "execution_count": 32,
   "metadata": {
    "collapsed": false,
    "scrolled": true
   },
   "outputs": [
    {
     "name": "stdout",
     "output_type": "stream",
     "text": [
      "0.916899903313\n"
     ]
    }
   ],
   "source": [
    "print metrics.accuracy_score(predict_forest,test_Y)"
   ]
  },
  {
   "cell_type": "code",
   "execution_count": 67,
   "metadata": {
    "collapsed": false
   },
   "outputs": [],
   "source": [
    "import xgboost as xgb\n",
    "clf = xgb.XGBClassifier(n_estimators=100,\n",
    "                        nthread=-1,\n",
    "                        max_depth=10,\n",
    "                        learning_rate=0.025,\n",
    "                        silent=True,\n",
    "                        subsample=0.8,\n",
    "                        colsample_bytree=0.8)\n",
    "                        \n",
    "xgb_model = clf.fit(train_X_tfidf, train_Y)\n",
    "predict_xgb = xgb_model.predict(X_test_tfidf)"
   ]
  },
  {
   "cell_type": "code",
   "execution_count": 73,
   "metadata": {
    "collapsed": false
   },
   "outputs": [
    {
     "data": {
      "text/plain": [
       "XGBClassifier(base_score=0.5, colsample_bylevel=1, colsample_bytree=0.8,\n",
       "       gamma=0, learning_rate=0.025, max_delta_step=0, max_depth=10,\n",
       "       min_child_weight=1, missing=None, n_estimators=100, nthread=-1,\n",
       "       objective='binary:logistic', reg_alpha=0, reg_lambda=1,\n",
       "       scale_pos_weight=1, seed=0, silent=True, subsample=0.8)"
      ]
     },
     "execution_count": 73,
     "metadata": {},
     "output_type": "execute_result"
    }
   ],
   "source": [
    "clf"
   ]
  },
  {
   "cell_type": "code",
   "execution_count": 72,
   "metadata": {
    "collapsed": false,
    "scrolled": true
   },
   "outputs": [
    {
     "name": "stdout",
     "output_type": "stream",
     "text": [
      "0.915220599461\n"
     ]
    }
   ],
   "source": [
    "print metrics.accuracy_score(predict_xgb,test_Y)"
   ]
  },
  {
   "cell_type": "code",
   "execution_count": null,
   "metadata": {
    "collapsed": true
   },
   "outputs": [],
   "source": []
  },
  {
   "cell_type": "code",
   "execution_count": null,
   "metadata": {
    "collapsed": true
   },
   "outputs": [],
   "source": []
  },
  {
   "cell_type": "code",
   "execution_count": null,
   "metadata": {
    "collapsed": true
   },
   "outputs": [],
   "source": []
  },
  {
   "cell_type": "code",
   "execution_count": null,
   "metadata": {
    "collapsed": true
   },
   "outputs": [],
   "source": []
  }
 ],
 "metadata": {
  "kernelspec": {
   "display_name": "Python 2",
   "language": "python",
   "name": "python2"
  },
  "language_info": {
   "codemirror_mode": {
    "name": "ipython",
    "version": 2
   },
   "file_extension": ".py",
   "mimetype": "text/x-python",
   "name": "python",
   "nbconvert_exporter": "python",
   "pygments_lexer": "ipython2",
   "version": "2.7.11"
  }
 },
 "nbformat": 4,
 "nbformat_minor": 0
}
